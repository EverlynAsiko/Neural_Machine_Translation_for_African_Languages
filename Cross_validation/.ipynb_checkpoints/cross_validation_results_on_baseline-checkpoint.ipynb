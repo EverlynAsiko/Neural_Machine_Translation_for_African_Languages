{
 "cells": [
  {
   "cell_type": "code",
   "execution_count": 1,
   "metadata": {},
   "outputs": [],
   "source": [
    "# Importing needed libraries for processing \n",
    "import numpy as np"
   ]
  },
  {
   "cell_type": "code",
   "execution_count": 2,
   "metadata": {},
   "outputs": [],
   "source": [
    "# Reading the files\n",
    "fname = 'result_kinyarwanda.txt'\n",
    "\n",
    "fff   = open(fname, 'r')   \n",
    "X = fff.readlines()    # Reading to a list \n",
    "fff.close() "
   ]
  },
  {
   "cell_type": "code",
   "execution_count": 21,
   "metadata": {},
   "outputs": [
    {
     "name": "stdout",
     "output_type": "stream",
     "text": [
      "test bleu[13a]:  26.89 [Beam search decoding with beam size = 5 and alpha = 1.0]\\n']\n",
      "\n",
      "test bleu[13a]:  27.07 [Beam search decoding with beam size = 5 and alpha = 1.0]\\n']\n",
      "\n",
      "test bleu[13a]:  27.01 [Beam search decoding with beam size = 5 and alpha = 1.0]\\n']\n",
      "\n",
      "ion - Decoding on test set (/scratch-small-local/255426.hpc1.hpc/test.bpe.en)...\\n']\n",
      "\n",
      "test bleu[13a]:  27.69 [Beam search decoding with beam size = 5 and alpha = 1.0]\\n']\n",
      "\n",
      "test bleu[13a]:  27.74 [Beam search decoding with beam size = 5 and alpha = 1.0]\\n']\n",
      "\n"
     ]
    }
   ],
   "source": [
    "for i in X:\n",
    "    print(i[-85:])"
   ]
  },
  {
   "cell_type": "code",
   "execution_count": 22,
   "metadata": {},
   "outputs": [
    {
     "name": "stdout",
     "output_type": "stream",
     "text": [
      "Mean: 27.268\n",
      "Std: 0.36793477682871933\n"
     ]
    }
   ],
   "source": [
    "# Kinyarwanda\n",
    "cross_rw = np.array([26.89,27.01,27.01,27.69,27.74])\n",
    "print('Mean:', np.mean(cross_rw))\n",
    "print('Std:', np.std(cross_rw))"
   ]
  },
  {
   "cell_type": "code",
   "execution_count": 23,
   "metadata": {},
   "outputs": [],
   "source": [
    "# Reading the files\n",
    "fname = 'result_luganda.txt'\n",
    "\n",
    "fff   = open(fname, 'r')   \n",
    "Y = fff.readlines()    # Reading to a list \n",
    "fff.close() "
   ]
  },
  {
   "cell_type": "code",
   "execution_count": 26,
   "metadata": {},
   "outputs": [
    {
     "data": {
      "text/plain": [
       "['2021-07-24 22:25:39,941 - INFO - joeynmt.prediction - test bleu[13a]:  25.24 [Beam search decoding with beam size = 5 and alpha = 1.0]\\n',\n",
       " '\\n',\n",
       " '2021-07-25 01:02:11,508 - INFO - joeynmt.prediction - test bleu[13a]:  25.34 [Beam search decoding with beam size = 5 and alpha = 1.0]\\n',\n",
       " '\\n',\n",
       " '2021-07-25 03:08:15,478 - INFO - joeynmt.prediction - Decoding on test set (/scratch-small-local/255251.hpc1.hpc/test.bpe.en2)...\\n',\n",
       " '\\n',\n",
       " '2021-07-25 06:06:22,084 - INFO - joeynmt.prediction - test bleu[13a]:  24.93 [Beam search decoding with beam size = 5 and alpha = 1.0]\\n',\n",
       " '\\n',\n",
       " '2021-07-25 08:39:02,118 - INFO - joeynmt.prediction - test bleu[13a]:  25.09 [Beam search decoding with beam size = 5 and alpha = 1.0]\\n',\n",
       " '\\n']"
      ]
     },
     "execution_count": 26,
     "metadata": {},
     "output_type": "execute_result"
    }
   ],
   "source": [
    "Y"
   ]
  },
  {
   "cell_type": "code",
   "execution_count": 27,
   "metadata": {},
   "outputs": [
    {
     "name": "stdout",
     "output_type": "stream",
     "text": [
      "Mean: 25.15\n",
      "Std: 0.15508062419270807\n"
     ]
    }
   ],
   "source": [
    "# Luganda\n",
    "cross_lg = np.array([25.24,25.34,24.93,25.09])\n",
    "print('Mean:', np.mean(cross_lg))\n",
    "print('Std:', np.std(cross_lg))"
   ]
  },
  {
   "cell_type": "code",
   "execution_count": 28,
   "metadata": {},
   "outputs": [],
   "source": [
    "# Reading the files\n",
    "fname = 'result_luhya.txt'\n",
    "\n",
    "fff   = open(fname, 'r')   \n",
    "Z = fff.readlines()    # Reading to a list \n",
    "fff.close() "
   ]
  },
  {
   "cell_type": "code",
   "execution_count": 29,
   "metadata": {},
   "outputs": [
    {
     "data": {
      "text/plain": [
       "['2021-07-15 11:34:16,512 - INFO - joeynmt.prediction - test bleu[13a]:   7.79 [Beam search decoding with beam size = 5 and alpha = 1.0]\\n',\n",
       " '\\n',\n",
       " '2021-07-15 20:03:40,463 - INFO - joeynmt.prediction - test bleu[13a]:   8.07 [Beam search decoding with beam size = 5 and alpha = 1.0]\\n',\n",
       " '\\n',\n",
       " '2021-07-16 04:39:17,155 - INFO - joeynmt.prediction - test bleu[13a]:   8.07 [Beam search decoding with beam size = 5 and alpha = 1.0]\\n',\n",
       " '\\n',\n",
       " '2021-07-16 13:15:38,003 - INFO - joeynmt.prediction - test bleu[13a]:   8.25 [Beam search decoding with beam size = 5 and alpha = 1.0]\\n',\n",
       " '\\n',\n",
       " '2021-07-16 21:17:21,679 - INFO - joeynmt.prediction - test bleu[13a]:   8.19 [Beam search decoding with beam size = 5 and alpha = 1.0]\\n',\n",
       " '\\n']"
      ]
     },
     "execution_count": 29,
     "metadata": {},
     "output_type": "execute_result"
    }
   ],
   "source": [
    "Z"
   ]
  },
  {
   "cell_type": "code",
   "execution_count": 31,
   "metadata": {},
   "outputs": [
    {
     "name": "stdout",
     "output_type": "stream",
     "text": [
      "Mean: 8.074\n",
      "Std: 0.15818975946628142\n"
     ]
    }
   ],
   "source": [
    "# Luhya\n",
    "cross_lh = np.array([7.79,8.07,8.07,8.25,8.19])\n",
    "print('Mean:', np.mean(cross_lh))\n",
    "print('Std:', np.std(cross_lh))"
   ]
  },
  {
   "cell_type": "code",
   "execution_count": null,
   "metadata": {},
   "outputs": [],
   "source": []
  }
 ],
 "metadata": {
  "kernelspec": {
   "display_name": "Python 3",
   "language": "python",
   "name": "python3"
  },
  "language_info": {
   "codemirror_mode": {
    "name": "ipython",
    "version": 3
   },
   "file_extension": ".py",
   "mimetype": "text/x-python",
   "name": "python",
   "nbconvert_exporter": "python",
   "pygments_lexer": "ipython3",
   "version": "3.7.3"
  }
 },
 "nbformat": 4,
 "nbformat_minor": 2
}
